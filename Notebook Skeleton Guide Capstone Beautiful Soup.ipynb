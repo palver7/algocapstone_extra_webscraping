{
 "cells": [
  {
   "cell_type": "markdown",
   "metadata": {},
   "source": [
    "# Capstone Web Scraping using BeautifulSoup\n",
    "\n",
    "This project is about web scraping, getting data from web pages without the API provided by the web page's owner. With webscraping we can get table data, text data from web pages that we can later transform into a more suitable format for data processing. The process of web scraping add to the possible sources of data we can use. In this particular project, I want to use web scraping to get the exchange rates between US Dollar (USD) and Indonesian Rupiah (IDR) from [this web site](https://www.exchange-rates.org/history/IDR/USD/T). The data that I am going to get are the dates for the exchange rate values and the values of 1 USD in IDR.\n",
    "\n",
    "\n",
    "## Requesting the Data and Creating a BeautifulSoup\n",
    "\n",
    "Let's begin with requesting the web from the site with `get` method."
   ]
  },
  {
   "cell_type": "code",
   "execution_count": 1,
   "metadata": {
    "ExecuteTime": {
     "end_time": "2020-01-13T05:12:23.275508Z",
     "start_time": "2020-01-13T05:12:20.009898Z"
    },
    "execution": {
     "iopub.execute_input": "2021-03-10T09:12:33.165591Z",
     "iopub.status.busy": "2021-03-10T09:12:33.164920Z",
     "iopub.status.idle": "2021-03-10T09:12:33.996305Z",
     "shell.execute_reply": "2021-03-10T09:12:33.994976Z",
     "shell.execute_reply.started": "2021-03-10T09:12:33.165399Z"
    }
   },
   "outputs": [],
   "source": [
    "import requests\n",
    "\n",
    "url_get = requests.get('https://www.exchange-rates.org/history/IDR/USD/T')"
   ]
  },
  {
   "cell_type": "markdown",
   "metadata": {},
   "source": [
    "To visualize what exactly you get from the `request.get`, we can use .content to see what we exactly get, in here i slice it so it won't make our screen full of the html we get from the page. You can delete the slicing if you want to see what we fully get."
   ]
  },
  {
   "cell_type": "code",
   "execution_count": 2,
   "metadata": {
    "ExecuteTime": {
     "end_time": "2020-01-13T05:12:23.290648Z",
     "start_time": "2020-01-13T05:12:23.277650Z"
    },
    "execution": {
     "iopub.execute_input": "2021-03-10T09:12:33.999141Z",
     "iopub.status.busy": "2021-03-10T09:12:33.998722Z",
     "iopub.status.idle": "2021-03-10T09:12:34.010927Z",
     "shell.execute_reply": "2021-03-10T09:12:34.010173Z",
     "shell.execute_reply.started": "2021-03-10T09:12:33.999087Z"
    }
   },
   "outputs": [
    {
     "data": {
      "text/plain": [
       "b'\\n<!DOCTYPE html>\\r\\n<!--[if lt IE 9]>\\r\\n    <html class=\"no-js ie8 oldie\" lang=\\'en\\' xml:lang=\\'en\\'>\\r\\n<![endif]-->\\r\\n<!--[if gt IE 8]><!--> <html class=\"no-js\" lang=\\'en\\' xml:lang=\\'en\\'> <!--<![endif]-->\\r\\n<head><title>Indonesian Rupiah Exchange Rate - US Dollar - Historical Exchange Rates</title>\\n<meta http-equiv=\"X-UA-Compatible\" content=\"IE=edge\">\\n<meta content=\"C#\" name=\"CODE_LANGUAGE\" />\\n<meta content=\"JavaScript\" name=\"vs_defaultClientScript\" />\\n<meta content=\"http://schemas.microsoft.com/intellisense/ie5\" name=\"vs_targetSchema\" />\\n<meta name=\"viewport\" content=\"width=device-width, initial-scale=1, maximum-scale=5\">\\n<meta http-equiv=\"Content-Type\" content=\"text/html; charset=utf-8\" />\\n\\n<meta name=\"mapping\" content=\"AP\" />\\n<base href=\"https://www.exchange-rates.org/\" />'"
      ]
     },
     "execution_count": 2,
     "metadata": {},
     "output_type": "execute_result"
    }
   ],
   "source": [
    "url_get.content[1:777]"
   ]
  },
  {
   "cell_type": "markdown",
   "metadata": {},
   "source": [
    "As we can see we get a very unstructured and complex html, which actually contains the codes needed to show the webpages on your web browser. But we as human still confused what and where we can use that piece of code, so here where we use the beautifulsoup. Beautiful soup class will result a beautifulsoup object. Beautiful Soup transforms a complex HTML document into a complex tree of Python objects. \n",
    "\n",
    "Let's make Beautiful soup object and feel free to explore the object here."
   ]
  },
  {
   "cell_type": "code",
   "execution_count": 3,
   "metadata": {
    "ExecuteTime": {
     "end_time": "2020-01-13T05:12:23.808122Z",
     "start_time": "2020-01-13T05:12:23.292610Z"
    },
    "execution": {
     "iopub.execute_input": "2021-03-10T09:12:34.012202Z",
     "iopub.status.busy": "2021-03-10T09:12:34.011912Z",
     "iopub.status.idle": "2021-03-10T09:12:34.202173Z",
     "shell.execute_reply": "2021-03-10T09:12:34.201510Z",
     "shell.execute_reply.started": "2021-03-10T09:12:34.012164Z"
    }
   },
   "outputs": [
    {
     "name": "stdout",
     "output_type": "stream",
     "text": [
      "<class 'bs4.BeautifulSoup'>\n"
     ]
    }
   ],
   "source": [
    "from bs4 import BeautifulSoup \n",
    "\n",
    "soup = BeautifulSoup(url_get.content,\"html.parser\")\n",
    "print(type(soup))"
   ]
  },
  {
   "cell_type": "markdown",
   "metadata": {},
   "source": [
    "## Finding the right key to scrap the data & Extracting the right information"
   ]
  },
  {
   "cell_type": "markdown",
   "metadata": {},
   "source": [
    "Find the key and put the key into the `.find()` In order to do this I put the cursor over the table, right-click, and select inspect element. The key that covers the whole table turns out to be 'table' or 'tbody'. I choose to use 'table' as key. Because the table key is accompanied by a class, I choose to add the class in the attrs (attributes) parameter in the beautifulsoup's find method. Then to check the part of code encapsulated by the key table, I use the prettify method and limit the output to 500 characters."
   ]
  },
  {
   "cell_type": "code",
   "execution_count": 4,
   "metadata": {
    "ExecuteTime": {
     "end_time": "2020-01-13T05:12:23.878904Z",
     "start_time": "2020-01-13T05:12:23.854974Z"
    },
    "execution": {
     "iopub.execute_input": "2021-03-10T09:12:34.203351Z",
     "iopub.status.busy": "2021-03-10T09:12:34.203117Z",
     "iopub.status.idle": "2021-03-10T09:12:34.219591Z",
     "shell.execute_reply": "2021-03-10T09:12:34.218706Z",
     "shell.execute_reply.started": "2021-03-10T09:12:34.203327Z"
    }
   },
   "outputs": [
    {
     "name": "stdout",
     "output_type": "stream",
     "text": [
      "<table class=\"table table-striped table-hover table-hover-solid-row table-simple history-data\">\n",
      " <tbody>\n",
      "  <tr>\n",
      "   <td>\n",
      "    3/9/2021\n",
      "   </td>\n",
      "   <td>\n",
      "    Tuesday\n",
      "   </td>\n",
      "   <td>\n",
      "    <a href=\"/Rate/USD/IDR/3-9-2021\">\n",
      "     14,396.25662\n",
      "    </a>\n",
      "    IDR\n",
      "   </td>\n",
      "   <td class=\"text-narrow-screen-hidden\">\n",
      "    <a href=\"/Rate/USD/IDR/3-9-2021\">\n",
      "     USD IDR rate for 3/9/2021\n",
      "    </a>\n",
      "   </td>\n",
      "  </tr>\n",
      "  <tr>\n",
      "   <td>\n",
      "    3/8/2021\n",
      "   </td>\n",
      "   <td>\n",
      "    Monday\n",
      "   </td>\n",
      "   <td>\n",
      "    <a href=\"/Rate/USD/IDR/3-\n"
     ]
    }
   ],
   "source": [
    "table = soup.find('table',attrs={'class': 'table table-striped table-hover table-hover-solid-row table-simple history-data'})\n",
    "print(table.prettify()[:500])"
   ]
  },
  {
   "cell_type": "markdown",
   "metadata": {},
   "source": [
    "After the key selection, then I am going to extract the text data from the table. The two types of data I am going to extract are the date of the exchange and the value of IDR in exchange for 1 USD. First, I prepared an empty list for the extracted data. Then I am going to find all the 'tr' keys in the table object, which indicate table rows. Then I am going to loop over all the 'tr' keys, finding all the 'td' keys and saving them in a variable named 'cells'. I found that the length of the 'cells' array can differ between rows. so I put a condition that if the length of the 'cells' array is more than 2 then I will extract the date stored in cells[0] and the IDR value stored in cells[2]. After that I will append both of them to the empty list I prepared before the loop. After the loop is finished, I reverse the list so that entries with earlier dates will be on top and entries with later dates will be on bottom. "
   ]
  },
  {
   "cell_type": "code",
   "execution_count": 5,
   "metadata": {
    "ExecuteTime": {
     "end_time": "2020-01-13T05:12:24.008256Z",
     "start_time": "2020-01-13T05:12:23.980358Z"
    },
    "execution": {
     "iopub.execute_input": "2021-03-10T09:12:34.221103Z",
     "iopub.status.busy": "2021-03-10T09:12:34.220663Z",
     "iopub.status.idle": "2021-03-10T09:12:34.309094Z",
     "shell.execute_reply": "2021-03-10T09:12:34.308493Z",
     "shell.execute_reply.started": "2021-03-10T09:12:34.221070Z"
    }
   },
   "outputs": [
    {
     "data": {
      "text/plain": [
       "[['9/10/2020', '14,871.58664 IDR'],\n",
       " ['9/11/2020', '14,865.27553 IDR'],\n",
       " ['9/13/2020', '14,876.45021 IDR'],\n",
       " ['9/14/2020', '14,864.65988 IDR'],\n",
       " ['9/15/2020', '14,843.44670 IDR'],\n",
       " ['9/16/2020', '14,807.88761 IDR'],\n",
       " ['9/17/2020', '14,829.41738 IDR'],\n",
       " ['9/18/2020', '14,730.71792 IDR'],\n",
       " ['9/20/2020', '14,728.84529 IDR'],\n",
       " ['9/21/2020', '14,701.43420 IDR'],\n",
       " ['9/22/2020', '14,751.85786 IDR'],\n",
       " ['9/23/2020', '14,825.54899 IDR'],\n",
       " ['9/24/2020', '14,888.78607 IDR'],\n",
       " ['9/25/2020', '14,855.63943 IDR'],\n",
       " ['9/27/2020', '14,859.98349 IDR'],\n",
       " ['9/28/2020', '14,892.32194 IDR'],\n",
       " ['9/29/2020', '14,880.93210 IDR'],\n",
       " ['9/30/2020', '14,867.44686 IDR'],\n",
       " ['10/1/2020', '14,822.66605 IDR'],\n",
       " ['10/2/2020', '14,852.30483 IDR'],\n",
       " ['10/5/2020', '14,797.90178 IDR'],\n",
       " ['10/6/2020', '14,857.67854 IDR'],\n",
       " ['10/7/2020', '14,705.58246 IDR'],\n",
       " ['10/8/2020', '14,692.93025 IDR'],\n",
       " ['10/9/2020', '14,679.27910 IDR'],\n",
       " ['10/12/2020', '14,677.85296 IDR'],\n",
       " ['10/13/2020', '14,687.35100 IDR'],\n",
       " ['10/14/2020', '14,696.21912 IDR'],\n",
       " ['10/15/2020', '14,667.95340 IDR'],\n",
       " ['10/16/2020', '14,688.43616 IDR'],\n",
       " ['10/19/2020', '14,705.13256 IDR'],\n",
       " ['10/20/2020', '14,555.88071 IDR'],\n",
       " ['10/21/2020', '14,641.61060 IDR'],\n",
       " ['10/22/2020', '14,647.90877 IDR'],\n",
       " ['10/23/2020', '14,655.04157 IDR'],\n",
       " ['10/26/2020', '14,652.88010 IDR'],\n",
       " ['10/27/2020', '14,649.78960 IDR'],\n",
       " ['10/28/2020', '14,701.92586 IDR'],\n",
       " ['10/29/2020', '14,701.62361 IDR'],\n",
       " ['10/30/2020', '14,629.16216 IDR'],\n",
       " ['11/2/2020', '14,612.89990 IDR'],\n",
       " ['11/3/2020', '14,589.01774 IDR'],\n",
       " ['11/4/2020', '14,544.44634 IDR'],\n",
       " ['11/5/2020', '14,389.14027 IDR'],\n",
       " ['11/6/2020', '14,214.49744 IDR'],\n",
       " ['11/9/2020', '14,283.29667 IDR'],\n",
       " ['11/10/2020', '14,053.76135 IDR'],\n",
       " ['11/11/2020', '14,073.46024 IDR'],\n",
       " ['11/12/2020', '14,141.24303 IDR'],\n",
       " ['11/13/2020', '14,142.77143 IDR'],\n",
       " ['11/16/2020', '14,085.69501 IDR'],\n",
       " ['11/17/2020', '14,040.16051 IDR'],\n",
       " ['11/18/2020', '14,051.29503 IDR'],\n",
       " ['11/19/2020', '14,165.50144 IDR'],\n",
       " ['11/20/2020', '14,162.60519 IDR'],\n",
       " ['11/23/2020', '14,185.57119 IDR'],\n",
       " ['11/24/2020', '14,137.48161 IDR'],\n",
       " ['11/25/2020', '14,136.09929 IDR'],\n",
       " ['11/26/2020', '14,090.70769 IDR'],\n",
       " ['11/27/2020', '14,078.12448 IDR'],\n",
       " ['11/30/2020', '14,114.11663 IDR'],\n",
       " ['12/1/2020', '14,118.51435 IDR'],\n",
       " ['12/2/2020', '14,094.65785 IDR'],\n",
       " ['12/3/2020', '14,109.15139 IDR'],\n",
       " ['12/4/2020', '14,092.75807 IDR'],\n",
       " ['12/7/2020', '14,103.58039 IDR'],\n",
       " ['12/8/2020', '14,105.04229 IDR'],\n",
       " ['12/9/2020', '14,096.39851 IDR'],\n",
       " ['12/10/2020', '14,103.70444 IDR'],\n",
       " ['12/11/2020', '14,076.36739 IDR'],\n",
       " ['12/14/2020', '14,087.17417 IDR'],\n",
       " ['12/15/2020', '14,124.19150 IDR'],\n",
       " ['12/16/2020', '14,084.50704 IDR'],\n",
       " ['12/17/2020', '14,101.72807 IDR'],\n",
       " ['12/18/2020', '14,101.05758 IDR'],\n",
       " ['12/21/2020', '14,124.20148 IDR'],\n",
       " ['12/22/2020', '14,164.98134 IDR'],\n",
       " ['12/23/2020', '14,183.64082 IDR'],\n",
       " ['12/24/2020', '14,188.41293 IDR'],\n",
       " ['12/25/2020', '14,211.65343 IDR'],\n",
       " ['12/28/2020', '14,139.81753 IDR'],\n",
       " ['12/29/2020', '14,108.18177 IDR'],\n",
       " ['12/30/2020', '14,020.01350 IDR'],\n",
       " ['12/31/2020', '14,120.57461 IDR'],\n",
       " ['1/1/2021', '14,213.67526 IDR'],\n",
       " ['1/4/2021', '14,015.86887 IDR'],\n",
       " ['1/5/2021', '13,906.05686 IDR'],\n",
       " ['1/6/2021', '13,861.51463 IDR'],\n",
       " ['1/7/2021', '13,905.64377 IDR'],\n",
       " ['1/8/2021', '13,991.16348 IDR'],\n",
       " ['1/11/2021', '14,137.24151 IDR'],\n",
       " ['1/12/2021', '14,074.81444 IDR'],\n",
       " ['1/13/2021', '14,125.90174 IDR'],\n",
       " ['1/14/2021', '14,070.58746 IDR'],\n",
       " ['1/15/2021', '14,153.46654 IDR'],\n",
       " ['1/18/2021', '14,055.43768 IDR'],\n",
       " ['1/19/2021', '14,063.60877 IDR'],\n",
       " ['1/20/2021', '14,021.43046 IDR'],\n",
       " ['1/21/2021', '13,964.91920 IDR'],\n",
       " ['1/22/2021', '14,025.60268 IDR'],\n",
       " ['1/25/2021', '14,021.11609 IDR'],\n",
       " ['1/26/2021', '14,062.91108 IDR'],\n",
       " ['1/27/2021', '14,048.72649 IDR'],\n",
       " ['1/28/2021', '14,048.06146 IDR'],\n",
       " ['1/29/2021', '14,027.32457 IDR'],\n",
       " ['2/1/2021', '14,025.27450 IDR'],\n",
       " ['2/2/2021', '14,004.60175 IDR'],\n",
       " ['2/3/2021', '13,997.60682 IDR'],\n",
       " ['2/4/2021', '14,020.87878 IDR'],\n",
       " ['2/5/2021', '14,008.99630 IDR'],\n",
       " ['2/8/2021', '14,007.25257 IDR'],\n",
       " ['2/9/2021', '13,920.52018 IDR'],\n",
       " ['2/10/2021', '13,994.09212 IDR'],\n",
       " ['2/11/2021', '13,982.27900 IDR'],\n",
       " ['2/12/2021', '13,988.54710 IDR'],\n",
       " ['2/15/2021', '13,918.18725 IDR'],\n",
       " ['2/16/2021', '13,935.96629 IDR'],\n",
       " ['2/17/2021', '14,015.16095 IDR'],\n",
       " ['2/18/2021', '14,013.51318 IDR'],\n",
       " ['2/19/2021', '14,066.79375 IDR'],\n",
       " ['2/22/2021', '14,118.07274 IDR'],\n",
       " ['2/23/2021', '14,092.64503 IDR'],\n",
       " ['2/24/2021', '14,083.03673 IDR'],\n",
       " ['2/25/2021', '14,139.73096 IDR'],\n",
       " ['2/26/2021', '14,300.27815 IDR'],\n",
       " ['3/1/2021', '14,248.60576 IDR'],\n",
       " ['3/2/2021', '14,256.28041 IDR'],\n",
       " ['3/3/2021', '14,257.29443 IDR'],\n",
       " ['3/4/2021', '14,261.85426 IDR'],\n",
       " ['3/5/2021', '14,292.17893 IDR'],\n",
       " ['3/8/2021', '14,374.33106 IDR'],\n",
       " ['3/9/2021', '14,396.25662 IDR']]"
      ]
     },
     "execution_count": 5,
     "metadata": {},
     "output_type": "execute_result"
    }
   ],
   "source": [
    "temp = [] #initiating a tuple\n",
    "tr = table.find_all('tr')\n",
    "for i in range(len(tr)):\n",
    "    cells = tr[i].find_all('td')\n",
    "    if len(cells) > 2:\n",
    "        date = cells[0].text\n",
    "        value = cells[2].text\n",
    "        date = date.strip()\n",
    "        value = value.strip()\n",
    "        temp.append([date, value])\n",
    "    \n",
    "temp = temp[::-1]\n",
    "temp"
   ]
  },
  {
   "cell_type": "markdown",
   "metadata": {},
   "source": [
    "## Creating data frame & Data wrangling"
   ]
  },
  {
   "cell_type": "markdown",
   "metadata": {},
   "source": [
    "Put the array into dataframe"
   ]
  },
  {
   "cell_type": "code",
   "execution_count": 6,
   "metadata": {
    "ExecuteTime": {
     "end_time": "2020-01-13T05:12:41.517372Z",
     "start_time": "2020-01-13T05:12:29.130015Z"
    },
    "execution": {
     "iopub.execute_input": "2021-03-10T09:12:34.310191Z",
     "iopub.status.busy": "2021-03-10T09:12:34.309999Z",
     "iopub.status.idle": "2021-03-10T09:12:34.802620Z",
     "shell.execute_reply": "2021-03-10T09:12:34.801852Z",
     "shell.execute_reply.started": "2021-03-10T09:12:34.310167Z"
    }
   },
   "outputs": [
    {
     "data": {
      "text/html": [
       "<div>\n",
       "<style scoped>\n",
       "    .dataframe tbody tr th:only-of-type {\n",
       "        vertical-align: middle;\n",
       "    }\n",
       "\n",
       "    .dataframe tbody tr th {\n",
       "        vertical-align: top;\n",
       "    }\n",
       "\n",
       "    .dataframe thead th {\n",
       "        text-align: right;\n",
       "    }\n",
       "</style>\n",
       "<table border=\"1\" class=\"dataframe\">\n",
       "  <thead>\n",
       "    <tr style=\"text-align: right;\">\n",
       "      <th></th>\n",
       "      <th>date</th>\n",
       "      <th>value</th>\n",
       "    </tr>\n",
       "  </thead>\n",
       "  <tbody>\n",
       "    <tr>\n",
       "      <th>0</th>\n",
       "      <td>9/10/2020</td>\n",
       "      <td>14,871.58664 IDR</td>\n",
       "    </tr>\n",
       "    <tr>\n",
       "      <th>1</th>\n",
       "      <td>9/11/2020</td>\n",
       "      <td>14,865.27553 IDR</td>\n",
       "    </tr>\n",
       "    <tr>\n",
       "      <th>2</th>\n",
       "      <td>9/13/2020</td>\n",
       "      <td>14,876.45021 IDR</td>\n",
       "    </tr>\n",
       "    <tr>\n",
       "      <th>3</th>\n",
       "      <td>9/14/2020</td>\n",
       "      <td>14,864.65988 IDR</td>\n",
       "    </tr>\n",
       "    <tr>\n",
       "      <th>4</th>\n",
       "      <td>9/15/2020</td>\n",
       "      <td>14,843.44670 IDR</td>\n",
       "    </tr>\n",
       "  </tbody>\n",
       "</table>\n",
       "</div>"
      ],
      "text/plain": [
       "        date             value\n",
       "0  9/10/2020  14,871.58664 IDR\n",
       "1  9/11/2020  14,865.27553 IDR\n",
       "2  9/13/2020  14,876.45021 IDR\n",
       "3  9/14/2020  14,864.65988 IDR\n",
       "4  9/15/2020  14,843.44670 IDR"
      ]
     },
     "execution_count": 6,
     "metadata": {},
     "output_type": "execute_result"
    }
   ],
   "source": [
    "import pandas as pd\n",
    "\n",
    "df = pd.DataFrame(temp,columns=['date','value'])\n",
    "df.head()"
   ]
  },
  {
   "cell_type": "markdown",
   "metadata": {},
   "source": [
    "After the list has been converted into a dataframe, it is time to clean the data. First step in cleaning the data is to convert the date column datatype from string to date time using the pd.datetime() method. Next, the value column also needs to be converted from string to float datatype. Before I can do this, I need to remove the IDR strings and the comma. I did this by applying string.replace() to each entry using the pandas series.apply(lambda) method. After all the unecessary characters have been removed, I convert the string into float by using pandas series' astype('float') method. "
   ]
  },
  {
   "cell_type": "code",
   "execution_count": 7,
   "metadata": {
    "ExecuteTime": {
     "end_time": "2020-01-13T05:12:59.165559Z",
     "start_time": "2020-01-13T05:12:58.910012Z"
    },
    "execution": {
     "iopub.execute_input": "2021-03-10T09:12:34.804934Z",
     "iopub.status.busy": "2021-03-10T09:12:34.804292Z",
     "iopub.status.idle": "2021-03-10T09:12:34.831992Z",
     "shell.execute_reply": "2021-03-10T09:12:34.830737Z",
     "shell.execute_reply.started": "2021-03-10T09:12:34.804818Z"
    }
   },
   "outputs": [
    {
     "data": {
      "text/html": [
       "<div>\n",
       "<style scoped>\n",
       "    .dataframe tbody tr th:only-of-type {\n",
       "        vertical-align: middle;\n",
       "    }\n",
       "\n",
       "    .dataframe tbody tr th {\n",
       "        vertical-align: top;\n",
       "    }\n",
       "\n",
       "    .dataframe thead th {\n",
       "        text-align: right;\n",
       "    }\n",
       "</style>\n",
       "<table border=\"1\" class=\"dataframe\">\n",
       "  <thead>\n",
       "    <tr style=\"text-align: right;\">\n",
       "      <th></th>\n",
       "      <th>date</th>\n",
       "      <th>value</th>\n",
       "    </tr>\n",
       "  </thead>\n",
       "  <tbody>\n",
       "    <tr>\n",
       "      <th>0</th>\n",
       "      <td>2020-09-10</td>\n",
       "      <td>14871.58664</td>\n",
       "    </tr>\n",
       "    <tr>\n",
       "      <th>1</th>\n",
       "      <td>2020-09-11</td>\n",
       "      <td>14865.27553</td>\n",
       "    </tr>\n",
       "    <tr>\n",
       "      <th>2</th>\n",
       "      <td>2020-09-13</td>\n",
       "      <td>14876.45021</td>\n",
       "    </tr>\n",
       "    <tr>\n",
       "      <th>3</th>\n",
       "      <td>2020-09-14</td>\n",
       "      <td>14864.65988</td>\n",
       "    </tr>\n",
       "    <tr>\n",
       "      <th>4</th>\n",
       "      <td>2020-09-15</td>\n",
       "      <td>14843.44670</td>\n",
       "    </tr>\n",
       "  </tbody>\n",
       "</table>\n",
       "</div>"
      ],
      "text/plain": [
       "        date        value\n",
       "0 2020-09-10  14871.58664\n",
       "1 2020-09-11  14865.27553\n",
       "2 2020-09-13  14876.45021\n",
       "3 2020-09-14  14864.65988\n",
       "4 2020-09-15  14843.44670"
      ]
     },
     "execution_count": 7,
     "metadata": {},
     "output_type": "execute_result"
    }
   ],
   "source": [
    "df['date'] = pd.to_datetime(df['date'])\n",
    "df['value'] = df['value'].apply(lambda x : x.replace(\"IDR\",\"\"))\n",
    "df['value'] = df['value'].apply(lambda x : x.replace(\",\",\"\"))\n",
    "df['value'] = df['value'].astype('float')\n",
    "df.head()"
   ]
  },
  {
   "cell_type": "markdown",
   "metadata": {},
   "source": [
    "After this since I am going to analyse a time series data, there must not be any jumps in the record, which actually exists. These jumps are caused by weekends or holidays. To fill the missing dates, I first converted the date column into row indices and then reindex the dataframe using pd.date_range() method with start and end parameters corresponding to the start and end dates on the table. Then I fill the rows with missing values with forward fill (ffill) method. The justification is since on holidays, there are no exchange taking place, then the exchange value for those days will be the same as the last working day."
   ]
  },
  {
   "cell_type": "code",
   "execution_count": 8,
   "metadata": {
    "execution": {
     "iopub.execute_input": "2021-03-10T09:12:34.895250Z",
     "iopub.status.busy": "2021-03-10T09:12:34.894849Z",
     "iopub.status.idle": "2021-03-10T09:12:35.703060Z",
     "shell.execute_reply": "2021-03-10T09:12:35.701845Z",
     "shell.execute_reply.started": "2021-03-10T09:12:34.895204Z"
    }
   },
   "outputs": [
    {
     "data": {
      "text/html": [
       "<div>\n",
       "<style scoped>\n",
       "    .dataframe tbody tr th:only-of-type {\n",
       "        vertical-align: middle;\n",
       "    }\n",
       "\n",
       "    .dataframe tbody tr th {\n",
       "        vertical-align: top;\n",
       "    }\n",
       "\n",
       "    .dataframe thead th {\n",
       "        text-align: right;\n",
       "    }\n",
       "</style>\n",
       "<table border=\"1\" class=\"dataframe\">\n",
       "  <thead>\n",
       "    <tr style=\"text-align: right;\">\n",
       "      <th></th>\n",
       "      <th>value</th>\n",
       "    </tr>\n",
       "  </thead>\n",
       "  <tbody>\n",
       "    <tr>\n",
       "      <th>2020-09-10</th>\n",
       "      <td>14871.58664</td>\n",
       "    </tr>\n",
       "    <tr>\n",
       "      <th>2020-09-11</th>\n",
       "      <td>14865.27553</td>\n",
       "    </tr>\n",
       "    <tr>\n",
       "      <th>2020-09-12</th>\n",
       "      <td>14865.27553</td>\n",
       "    </tr>\n",
       "    <tr>\n",
       "      <th>2020-09-13</th>\n",
       "      <td>14876.45021</td>\n",
       "    </tr>\n",
       "    <tr>\n",
       "      <th>2020-09-14</th>\n",
       "      <td>14864.65988</td>\n",
       "    </tr>\n",
       "  </tbody>\n",
       "</table>\n",
       "</div>"
      ],
      "text/plain": [
       "                  value\n",
       "2020-09-10  14871.58664\n",
       "2020-09-11  14865.27553\n",
       "2020-09-12  14865.27553\n",
       "2020-09-13  14876.45021\n",
       "2020-09-14  14864.65988"
      ]
     },
     "execution_count": 8,
     "metadata": {},
     "output_type": "execute_result"
    }
   ],
   "source": [
    "df = df.set_index(\"date\")\n",
    "df = df.reindex(pd.date_range(start='2020-09-10', end='2021-03-09'))\n",
    "df['value'] = df['value'].ffill()\n",
    "df.head()"
   ]
  },
  {
   "cell_type": "markdown",
   "metadata": {},
   "source": [
    "### Implementing your webscrapping to the flask dashboard\n",
    "\n",
    "- Copy paste all of your web scrapping process to the desired position on the `app.py`\n",
    "- Changing the title of the dasboard at `index.html`"
   ]
  },
  {
   "cell_type": "markdown",
   "metadata": {},
   "source": [
    "## Finishing This Notebook with Your Analysis and Conclusion\n",
    "\n",
    "After I finished with the data cleaning now it is time to visualise the data using the dataframe.plot() method to plot the time series data."
   ]
  },
  {
   "cell_type": "code",
   "execution_count": 11,
   "metadata": {
    "ExecuteTime": {
     "end_time": "2020-01-13T05:20:56.208237Z",
     "start_time": "2020-01-13T05:20:56.076043Z"
    },
    "execution": {
     "iopub.execute_input": "2021-03-09T16:31:16.026597Z",
     "iopub.status.busy": "2021-03-09T16:31:16.026051Z",
     "iopub.status.idle": "2021-03-09T16:31:16.294619Z",
     "shell.execute_reply": "2021-03-09T16:31:16.294036Z",
     "shell.execute_reply.started": "2021-03-09T16:31:16.026531Z"
    }
   },
   "outputs": [
    {
     "data": {
      "text/plain": [
       "<AxesSubplot:>"
      ]
     },
     "execution_count": 11,
     "metadata": {},
     "output_type": "execute_result"
    },
    {
     "data": {
      "image/png": "[encoded data removed]",
      "text/plain": [
       "<Figure size 432x288 with 1 Axes>"
      ]
     },
     "metadata": {
      "needs_background": "light"
     },
     "output_type": "display_data"
    }
   ],
   "source": [
    "df.plot()"
   ]
  },
  {
   "cell_type": "markdown",
   "metadata": {},
   "source": [
    "\n",
    "From the plot it is clear that from October to early November that the value of 1 USD is above 14500 IDR. Then in mid November the value of USD weakens to be about 14000 IDR and in January it drops even lower to below 14000 IDR. In mid February, USD becomes strong again with respect to IDR and there is an unsteady increase  so that 1 USD is now worth about 14400 IDR. \n",
    "\n",
    "In conclusion USD had a drop from mid November to mid February and now seems to be recovering."
   ]
  },
  {
   "cell_type": "markdown",
   "metadata": {},
   "source": [
    "### Extra Challange\n",
    "\n",
    "This will be not included to the scoring. \n",
    "\n",
    "- You can create additional analysis from the data.\n",
    "- Implement it to the dashboard with at `app.py` dan `index.html`."
   ]
  }
 ],
 "metadata": {
  "kernelspec": {
   "display_name": "scraping-capstone",
   "language": "python",
   "name": "scraping-capstone"
  },
  "language_info": {
   "codemirror_mode": {
    "name": "ipython",
    "version": 3
   },
   "file_extension": ".py",
   "mimetype": "text/x-python",
   "name": "python",
   "nbconvert_exporter": "python",
   "pygments_lexer": "ipython3",
   "version": "3.7.10"
  }
 },
 "nbformat": 4,
 "nbformat_minor": 4
}
